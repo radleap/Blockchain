{
 "cells": [
  {
   "cell_type": "markdown",
   "id": "seasonal-medicare",
   "metadata": {},
   "source": [
    "# Transaction Implementation\n",
    "- Environment used: conda create -n blockchain pip python scipy cryptography\n",
    "- cryptography version 3.4.7, python version 3.9.5\n",
    "- Corresponds to script \"Txblock.py\""
   ]
  },
  {
   "cell_type": "markdown",
   "id": "unlimited-stationery",
   "metadata": {},
   "source": [
    "# Class Definition For Blockchain Transaction Implementation\n",
    "\n",
    "Includes the following:\n",
    "- Definition \n"
   ]
  },
  {
   "cell_type": "code",
   "execution_count": 2,
   "id": "dental-benefit",
   "metadata": {
    "ExecuteTime": {
     "end_time": "2021-06-21T19:19:16.714336Z",
     "start_time": "2021-06-21T19:19:16.675949Z"
    }
   },
   "outputs": [],
   "source": [
    "import pickle\n",
    "from cryptography.hazmat.primitives import serialization\n",
    "from blockchain import CBlock\n",
    "import signatures\n",
    "import transaction\n",
    "\n",
    "class TxBlock(CBlock):\n",
    "    def __init__(self,previousBlock):\n",
    "        pass\n",
    "    def addTx(self, Tx_in):\n",
    "        pass\n",
    "    def is_valid(self):\n",
    "        return False"
   ]
  },
  {
   "cell_type": "code",
   "execution_count": 10,
   "id": "supported-serbia",
   "metadata": {
    "ExecuteTime": {
     "end_time": "2021-06-21T19:28:21.361833Z",
     "start_time": "2021-06-21T19:28:21.069652Z"
    }
   },
   "outputs": [
    {
     "name": "stdout",
     "output_type": "stream",
     "text": [
      "True\n"
     ]
    }
   ],
   "source": [
    "pr1,pu1 = signatures.generate_keys()\n",
    "pr2,pu2 = signatures.generate_keys()\n",
    "pr3,pu3 = signatures.generate_keys()\n",
    "\n",
    "Tx1 = transaction.Tx()\n",
    "Tx1.add_input(pu1,1)\n",
    "Tx1.add_output(pu2,1)\n",
    "Tx1.sign(pr1)\n",
    "\n",
    "print(Tx1.is_valid())\n",
    "\n",
    "def private_key_serialization(private_key):\n",
    "    pem = private_key.private_bytes(\n",
    "        encoding = serialization.Encoding.PEM,\n",
    "        format = serialization.PrivateFormat.PKCS8,\n",
    "        encryption_algorithm = serialization.BestAvailableEncryption(b'mypassword'))\n",
    "    return pem\n",
    "def public_key_serialization(public_key):\n",
    "    pem = public_key.public_bytes(\n",
    "        encoding = serialization.Encoding.PEM,\n",
    "        format = serialization.PublicFormat.SubjectPublicKeyInfo)\n",
    "    return(pem)\n",
    "\n",
    "def load_key(path):\n",
    "    with open(path,\"rb\") as key_file:\n",
    "        private_key = serialization.load_pem_private_key(\n",
    "            key_file.read(),\n",
    "            password = b'mypassword'\n",
    "        )"
   ]
  },
  {
   "cell_type": "code",
   "execution_count": 11,
   "id": "collectible-wrong",
   "metadata": {
    "ExecuteTime": {
     "end_time": "2021-06-21T19:28:32.751769Z",
     "start_time": "2021-06-21T19:28:32.505015Z"
    }
   },
   "outputs": [
    {
     "data": {
      "text/plain": [
       "b'-----BEGIN PUBLIC KEY-----\\nMIIBIjANBgkqhkiG9w0BAQEFAAOCAQ8AMIIBCgKCAQEAqWzM3Io6Umm3T7r5rxD5\\nsezinzdnR4f2OHBFMGziDT+gB2DZ6BoQYiNUy2wVY5EPyKp/k+FM7GJTtdO/do8/\\nFZzWlkQn2V9K3kRuAT13/6c7I9M7puh0irouAKGHTYZc+AxFWBDFtx4Z72s4tKm8\\nsTKNKXT+VEmP+4HdPHaWIq0C75pq+kY5j01FwyK/bgrkJb+pHgJE3biG+LgQ7reZ\\ndqczPujkmIKp9sfmeE6SqxMt2AHsTpnE5pvHs3uGyaFCeBrnAPsUsqvOAJ1IhQVM\\nim0JqYv+4x8rSSkDh6lGEXxYpET69Xqd7t+OTkcxbIR0vnO8oMuL0CtjAm2Ad0f5\\n6wIDAQAB\\n-----END PUBLIC KEY-----\\n'"
      ]
     },
     "execution_count": 11,
     "metadata": {},
     "output_type": "execute_result"
    }
   ],
   "source": [
    "pr1,pu1 = signatures.generate_keys()\n",
    "pr2,pu2 = signatures.generate_keys()\n",
    "pr3,pu3 = signatures.generate_keys()\n",
    "\n",
    "private_key_serialization(pr1)\n",
    "public_key_serialization(pu1)"
   ]
  },
  {
   "cell_type": "code",
   "execution_count": 22,
   "id": "incomplete-colleague",
   "metadata": {
    "ExecuteTime": {
     "end_time": "2021-06-21T19:33:43.658838Z",
     "start_time": "2021-06-21T19:33:43.646835Z"
    }
   },
   "outputs": [],
   "source": [
    "Tx1 = transaction.Tx()\n",
    "Tx1.add_input(pu1,1)\n",
    "Tx1.add_output(pu2,1)\n",
    "Tx1.sign(pr1)"
   ]
  },
  {
   "cell_type": "code",
   "execution_count": 24,
   "id": "different-insider",
   "metadata": {
    "ExecuteTime": {
     "end_time": "2021-06-21T19:34:29.771816Z",
     "start_time": "2021-06-21T19:34:29.761844Z"
    }
   },
   "outputs": [
    {
     "data": {
      "text/plain": [
       "[(<cryptography.hazmat.backends.openssl.rsa._RSAPublicKey at 0x20b18cbef28>,\n",
       "  1)]"
      ]
     },
     "execution_count": 24,
     "metadata": {},
     "output_type": "execute_result"
    }
   ],
   "source": [
    "Tx1."
   ]
  },
  {
   "cell_type": "code",
   "execution_count": 31,
   "id": "allied-salad",
   "metadata": {
    "ExecuteTime": {
     "end_time": "2021-06-21T19:50:53.442654Z",
     "start_time": "2021-06-21T19:50:53.421953Z"
    }
   },
   "outputs": [
    {
     "ename": "PermissionError",
     "evalue": "[Errno 13] Permission denied: '/saved1.dat'",
     "output_type": "error",
     "traceback": [
      "\u001b[1;31m---------------------------------------------------------------------------\u001b[0m",
      "\u001b[1;31mPermissionError\u001b[0m                           Traceback (most recent call last)",
      "\u001b[1;32m<ipython-input-31-ac27abd0080d>\u001b[0m in \u001b[0;36m<module>\u001b[1;34m\u001b[0m\n\u001b[0;32m      2\u001b[0m \u001b[0msig\u001b[0m \u001b[1;33m=\u001b[0m \u001b[0msignatures\u001b[0m\u001b[1;33m.\u001b[0m\u001b[0msign\u001b[0m\u001b[1;33m(\u001b[0m\u001b[0mmessage\u001b[0m\u001b[1;33m,\u001b[0m\u001b[0mpr1\u001b[0m\u001b[1;33m)\u001b[0m\u001b[1;33m\u001b[0m\u001b[1;33m\u001b[0m\u001b[0m\n\u001b[0;32m      3\u001b[0m \u001b[1;33m\u001b[0m\u001b[0m\n\u001b[1;32m----> 4\u001b[1;33m \u001b[0msavefile\u001b[0m \u001b[1;33m=\u001b[0m \u001b[0mopen\u001b[0m\u001b[1;33m(\u001b[0m\u001b[1;34m\"/saved1.dat\"\u001b[0m\u001b[1;33m,\u001b[0m\u001b[1;34m\"wb\"\u001b[0m\u001b[1;33m)\u001b[0m\u001b[1;33m\u001b[0m\u001b[1;33m\u001b[0m\u001b[0m\n\u001b[0m\u001b[0;32m      5\u001b[0m \u001b[0mpickle\u001b[0m\u001b[1;33m.\u001b[0m\u001b[0mdump\u001b[0m\u001b[1;33m(\u001b[0m\u001b[0mTx1\u001b[0m\u001b[1;33m.\u001b[0m\u001b[0msigs\u001b[0m\u001b[1;33m,\u001b[0m\u001b[0msavefile\u001b[0m\u001b[1;33m)\u001b[0m\u001b[1;33m\u001b[0m\u001b[1;33m\u001b[0m\u001b[0m\n\u001b[0;32m      6\u001b[0m \u001b[0msavefile\u001b[0m\u001b[1;33m.\u001b[0m\u001b[0mclose\u001b[0m\u001b[1;33m(\u001b[0m\u001b[1;33m)\u001b[0m\u001b[1;33m\u001b[0m\u001b[1;33m\u001b[0m\u001b[0m\n",
      "\u001b[1;31mPermissionError\u001b[0m: [Errno 13] Permission denied: '/saved1.dat'"
     ]
    }
   ],
   "source": [
    "message = b\"Some text\"\n",
    "sig = signatures.sign(message,pr1)\n",
    "\n",
    "savefile = open(\"saved.dat\",\"wb\")\n",
    "pickle.dump(Tx1.sigs,savefile)\n",
    "savefile.close()\n",
    "\n",
    "loadfile = open(\"save.dat\",\"rb\")\n",
    "bexTx = pickle.load(loadfile)\n",
    "print(newTx.is_valid())"
   ]
  },
  {
   "cell_type": "markdown",
   "id": "human-polymer",
   "metadata": {},
   "source": [
    "# Testing"
   ]
  },
  {
   "cell_type": "code",
   "execution_count": 2,
   "id": "dated-questionnaire",
   "metadata": {
    "ExecuteTime": {
     "end_time": "2021-06-20T20:47:13.456159Z",
     "start_time": "2021-06-20T20:47:13.014410Z"
    }
   },
   "outputs": [],
   "source": [
    "#################### testing ######################\n",
    "\n",
    " #prevents it from running if loaded the module... if just invoke it as a python script will run the tests\n",
    "if __name__ == \"__main__\":\n",
    "    pr1,pu1 = signatures.generate_keys()\n",
    "    pr2,pu2 = signatures.generate_keys()\n",
    "    pr3,pu3 = signatures.generate_keys()\n",
    "\n",
    "    Tx1 = transaction.Tx()\n",
    "    Tx1.add_input(pu1,1)\n",
    "    Tx1.add_output(pu2,1)\n",
    "    Tx1.sign(pr1)\n",
    "\n",
    "    print(Tx1.is_valid())\n",
    "\n",
    "    def key_serialization(key):\n",
    "        pem = key.private_bytes()\n",
    "\n",
    "    \n",
    "    message = b\"Some text\"\n",
    "    sig = signatures.sign(message,pr1)\n",
    "\n",
    "    savefile = open(\"saved.dat\",\"wb\")\n",
    "    pickle.dump(Tx1,savefile)\n",
    "    savefile.close()\n",
    "\n",
    "    loadfile = open(\"save.dat\",\"rb\")\n",
    "    bexTx = pickle.load(loadfile)\n",
    "    print(newTx.is_valid())\n",
    "\n",
    "####################### resources ########################\n",
    "\n"
   ]
  }
 ],
 "metadata": {
  "kernelspec": {
   "display_name": "Python 3",
   "language": "python",
   "name": "python3"
  },
  "language_info": {
   "codemirror_mode": {
    "name": "ipython",
    "version": 3
   },
   "file_extension": ".py",
   "mimetype": "text/x-python",
   "name": "python",
   "nbconvert_exporter": "python",
   "pygments_lexer": "ipython3",
   "version": "3.7.3"
  }
 },
 "nbformat": 4,
 "nbformat_minor": 5
}
