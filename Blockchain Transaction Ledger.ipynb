{
 "cells": [
  {
   "cell_type": "markdown",
   "id": "seasonal-medicare",
   "metadata": {},
   "source": [
    "# Blockchain Transaction Implementation\n",
    "- Environment used: conda create -n blockchain pip python scipy cryptography\n",
    "- cryptography version 3.4.7, python version 3.9.5\n",
    "- Corresponds to script \"Txblock.py\""
   ]
  },
  {
   "cell_type": "markdown",
   "id": "unlimited-stationery",
   "metadata": {},
   "source": [
    "# Class Definition For Blockchain Transaction Implementation\n",
    "\n",
    "Includes the following:\n",
    "- Defining the Transaction Block TxBlock class, that add transactions, and checks if valid \n"
   ]
  },
  {
   "cell_type": "code",
   "execution_count": 2,
   "id": "dental-benefit",
   "metadata": {
    "ExecuteTime": {
     "end_time": "2021-06-21T19:19:16.714336Z",
     "start_time": "2021-06-21T19:19:16.675949Z"
    }
   },
   "outputs": [],
   "source": [
    "import pickle\n",
    "from cryptography.hazmat.primitives import serialization\n",
    "from blockchain import CBlock\n",
    "import signatures\n",
    "import transaction\n",
    "\n",
    "class TxBlock(CBlock):\n",
    "    def __init__(self,previousBlock):\n",
    "        super(TxBlock, self).__init__([],previousBlock)  #reference to the parent class of TXBlock which is CBlock; initialize data\n",
    "        pass\n",
    "    def addTx(self, Tx_in):\n",
    "        pass\n",
    "    def is_valid(self):\n",
    "        return False"
   ]
  },
  {
   "cell_type": "markdown",
   "id": "fiscal-mississippi",
   "metadata": {},
   "source": [
    "# Testing"
   ]
  },
  {
   "cell_type": "code",
   "execution_count": null,
   "id": "nutritional-payroll",
   "metadata": {},
   "outputs": [],
   "source": [
    " #prevents it from running if loaded the module... if just invoke it as a python script will run the tests\n",
    "if __name__ == \"__main__\":\n",
    "    pr1,pu1 = signatures.generate_keys()\n",
    "    pr2,pu2 = signatures.generate_keys()\n",
    "    pr3,pu3 = signatures.generate_keys()\n",
    "\n",
    "    Tx1 = transaction.Tx()\n",
    "    Tx1.add_input(pu1,1)\n",
    "    Tx1.add_output(pu2,1)\n",
    "    Tx1.sign(pr1)\n",
    "\n",
    "    if Tx1.is_valid():\n",
    "        print(\"Success! Tx is valid\")\n",
    "\n",
    "    ###### saving via pickle of the transaction block\n",
    "    savefile = open(\"tx.dat\",\"wb\")\n",
    "    pickle.dump(Tx1,savefile)\n",
    "    savefile.close()\n",
    "\n",
    "    #### loading and testing the transaction using the transaction.is_valid()\n",
    "    loadfile = open(\"tx.dat\",\"rb\")\n",
    "    newTx = pickle.load(loadfile)\n",
    "    if newTx.is_valid():\n",
    "        print(\"Success! Loaded Tx is valid\")\n",
    "    loadfile.close()\n",
    "\n",
    "    root = TxBlock(None) # cretae a root block\n",
    "    root.addTx(Tx1)\n",
    "\n",
    "    Tx2 = transaction.Tx() #transactions in root block\n",
    "    Tx2.add_input(pu2, 1.1)\n",
    "    Tx2.add_output(pu3, 1)\n",
    "    Tx2.sign(pr2)\n",
    "    root.addTx(Tx2)\n",
    "\n",
    "    B1 = TxBlock(root) # next block and transactions after root\n",
    "    Tx3 = transaction.Tx()\n",
    "    Tx3.add_input(pu3, 1.1)\n",
    "    Tx3.add_output(pu2, 1)\n",
    "    Tx3.sign(pr3)\n",
    "    B1.addTx(Tx3)\n",
    "\n",
    "    Tx4 = transaction.Tx()\n",
    "    Tx4.add_input(pu1, 1)\n",
    "    Tx4.add_output(pu2, 1)\n",
    "    Tx4.add_required(pu3)\n",
    "    Tx4.sign(pr2)\n",
    "    Tx4.sign(pr3)\n",
    "    B1.addTx(Tx4)\n",
    "\n",
    "\n",
    "\n",
    "    savefile = open(\"block.dat\",\"wb\")\n",
    "    pickle.dump(B1,savefile)\n",
    "    savefile.close()\n",
    "\n",
    "    loadfile = open(\"block.dat\",\"rb\")\n",
    "    load_B1 = pickle.load(loadfile)\n",
    "    load_B1.is_valid()\n",
    "\n",
    "    for b in [root, B1, load_B1, load_B1.previousBlock]:\n",
    "        if b.is_valid():\n",
    "            print(\"Success! Valid Block\")\n",
    "        else:\n",
    "            print(\"Error! Bad Block\")\n",
    "\n",
    "    B2 = TxBlock(B1)\n",
    "    Tx5 = transaction.Tx()\n",
    "    Tx5.add_input(pu3,1)\n",
    "    Tx5.add_output(pu1, 100) #inputs exceed outputs\n",
    "    Tx5.sign(pr3)\n",
    "\n",
    "    load_B1.previousBlock.addTx(Tx4) # tampering with block b1\n",
    "    for b in [B2, load_B1]:\n",
    "        if b.is_valid():\n",
    "            print(\"ERROR! Bad block verified.\")\n",
    "        else:\n",
    "            print(\"Success! Bad blocks detected!\")\n"
   ]
  }
 ],
 "metadata": {
  "kernelspec": {
   "display_name": "Python 3",
   "language": "python",
   "name": "python3"
  },
  "language_info": {
   "codemirror_mode": {
    "name": "ipython",
    "version": 3
   },
   "file_extension": ".py",
   "mimetype": "text/x-python",
   "name": "python",
   "nbconvert_exporter": "python",
   "pygments_lexer": "ipython3",
   "version": "3.7.3"
  }
 },
 "nbformat": 4,
 "nbformat_minor": 5
}
