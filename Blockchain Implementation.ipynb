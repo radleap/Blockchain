{
 "cells": [
  {
   "cell_type": "markdown",
   "id": "active-reach",
   "metadata": {},
   "source": [
    "# Blockchain Implementation\n",
    "\n",
    "- Environment used: conda create -n blockchain pip python scipy cryptography\n",
    "- cryptography version 3.4.7, python version 3.9.5\n",
    "- Corresponds to script \"Blockchain.py\""
   ]
  },
  {
   "cell_type": "markdown",
   "id": "municipal-rapid",
   "metadata": {},
   "source": [
    "# Class Definition For Blockchain Implementation\n",
    "\n",
    "Includes the following:\n",
    "- Definition class CBlock for blockchain implementation\n",
    "- Definitino of hash method in CBlock\n",
    "- Definition of CBlock attributes data, previousHash, and previousBlock"
   ]
  },
  {
   "cell_type": "code",
   "execution_count": 1,
   "id": "lonely-section",
   "metadata": {
    "ExecuteTime": {
     "end_time": "2021-06-16T05:58:33.656776Z",
     "start_time": "2021-06-16T05:58:33.596150Z"
    },
    "scrolled": true
   },
   "outputs": [],
   "source": [
    "from cryptography.hazmat.primitives import hashes\n",
    "\n",
    "# Definition of Blockchain Class   \n",
    "class CBlock:\n",
    "    data = None\n",
    "    previousHash = None\n",
    "    previousBlock = None\n",
    "    \n",
    "    def __init__(self, data, previousBlock):\n",
    "        self.data = data\n",
    "        self.previousBlock = previousBlock\n",
    "        \n",
    "        if self.previousBlock == None:\n",
    "            self.previousHash = None\n",
    "        else:\n",
    "            self.previousHash = previousBlock.computeHash() #calculating the previous hash, setting as attribute\n",
    "\n",
    "    def computeHash(self):\n",
    "        '''\n",
    "        Takes this blocks data, and previous block hash\n",
    "        Returns hash of combined data\n",
    "        '''\n",
    "        h1 = bytes(str(self.data), 'utf-8')\n",
    "        h2 = bytes(str(self.previousHash), 'utf-8')\n",
    "        #h3 = bytes(str(self.previousBlock), 'utf-8') # not needed, removed\n",
    "        \n",
    "        digest = hashes.Hash(hashes.SHA256())\n",
    "        digest.update(h1)\n",
    "        digest.update(h2)\n",
    "        #digest.update(h3) # not needed, removed\n",
    "        hash = digest.finalize()\n",
    "        return(hash)\n",
    "    \n",
    "# Definition of another class\n",
    "class someClass:\n",
    "    string = None\n",
    "    def __init__(self, mystring):\n",
    "        self.string = mystring\n",
    "    def __repr__(self): #will be called on function when string or print used\n",
    "        return self.string"
   ]
  },
  {
   "cell_type": "markdown",
   "id": "nuclear-retrieval",
   "metadata": {},
   "source": [
    "# Testing Assumptions"
   ]
  },
  {
   "cell_type": "code",
   "execution_count": 2,
   "id": "reflected-sweet",
   "metadata": {
    "ExecuteTime": {
     "end_time": "2021-06-16T05:58:34.033713Z",
     "start_time": "2021-06-16T05:58:33.663913Z"
    }
   },
   "outputs": [
    {
     "name": "stdout",
     "output_type": "stream",
     "text": [
      "------root------\n",
      "<__main__.CBlock object at 0x000001FF7E8ADF98>\n",
      "b'\\x89\\x0b\\xa9\\xfe\\xce;^\\xbb\\x17\\x91\\xee\\x91\\x85\\xb6\\xbfR\\xcc\\x8e\\xb4\\xd3\\t\\xb1\\x12\\\\\\x8c\\x81U/\\xe8|\\xd3 '\n",
      "------B1------\n",
      "<__main__.CBlock object at 0x000001FF7E8B6828>\n",
      "<__main__.CBlock object at 0x000001FF7E8ADF98>\n",
      "b'\\x89\\x0b\\xa9\\xfe\\xce;^\\xbb\\x17\\x91\\xee\\x91\\x85\\xb6\\xbfR\\xcc\\x8e\\xb4\\xd3\\t\\xb1\\x12\\\\\\x8c\\x81U/\\xe8|\\xd3 '\n",
      "b'k\\xe5&\\x7f\\x0b\\xd2L\\xdf\\x8bb8Q\\x15tE\\xbd*\\x08|\\xac6\\x8a\\xdf\\x1a\\x94\\xcbi3\\xb4E\\x19]'\n",
      "------B3------\n",
      "<__main__.CBlock object at 0x000001FF7E8B68D0>\n",
      "<__main__.CBlock object at 0x000001FF7E8B6828>\n",
      "b'k\\xe5&\\x7f\\x0b\\xd2L\\xdf\\x8bb8Q\\x15tE\\xbd*\\x08|\\xac6\\x8a\\xdf\\x1a\\x94\\xcbi3\\xb4E\\x19]'\n",
      "b'k\\xe5&\\x7f\\x0b\\xd2L\\xdf\\x8bb8Q\\x15tE\\xbd*\\x08|\\xac6\\x8a\\xdf\\x1a\\x94\\xcbi3\\xb4E\\x19]'\n"
     ]
    }
   ],
   "source": [
    "print(\"------root------\")\n",
    "root = CBlock('I am root', None) #creating block\n",
    "print(root)\n",
    "print(root.computeHash())\n",
    "print(\"------B1------\")\n",
    "B1 = CBlock('I am a child', root) #creating block\n",
    "print(B1)\n",
    "print(B1.previousBlock)\n",
    "print(B1.previousHash)\n",
    "print(B1.computeHash())\n",
    "print(\"------B3------\")\n",
    "B3 = CBlock(12345, B1) #creating block\n",
    "print(B3)\n",
    "print(B3.previousBlock)\n",
    "print(B3.previousHash)\n",
    "print(B3.previousBlock.computeHash())"
   ]
  },
  {
   "cell_type": "code",
   "execution_count": 3,
   "id": "resistant-confidence",
   "metadata": {
    "ExecuteTime": {
     "end_time": "2021-06-16T05:58:34.096243Z",
     "start_time": "2021-06-16T05:58:34.041333Z"
    }
   },
   "outputs": [
    {
     "data": {
      "text/plain": [
       "Hi there!!"
      ]
     },
     "execution_count": 3,
     "metadata": {},
     "output_type": "execute_result"
    }
   ],
   "source": [
    "B1 = CBlock('I am a child', root)\n",
    "B2 = CBlock('I am B1s brother', root) #branching\n",
    "B3 = CBlock(12345, B1)\n",
    "B4 = CBlock(someClass('Hi there!!'), B2)\n",
    "B5 = CBlock(\"Top Block\", B4)\n",
    "B4.data"
   ]
  },
  {
   "cell_type": "markdown",
   "id": "written-flour",
   "metadata": {},
   "source": [
    "# Resources\n",
    "\n",
    "https://cryptography.io/en/latest/hazmat/primitives/cryptographic-hashes/"
   ]
  },
  {
   "cell_type": "code",
   "execution_count": 4,
   "id": "internal-mouse",
   "metadata": {
    "ExecuteTime": {
     "end_time": "2021-06-16T05:58:34.235614Z",
     "start_time": "2021-06-16T05:58:34.106681Z"
    }
   },
   "outputs": [],
   "source": [
    "# #Rough Work \n",
    "\n",
    "# from cryptography.hazmat.primitives import hashes\n",
    "# digest = hashes.Hash(hashes.SHA256())\n",
    "# digest.update(b\"abc\") # adding data\n",
    "# digest.update(b\"123\") #adding data\n",
    "# hash = digest.finalize()\n",
    "# print(hash)\n",
    "# # b'l\\xa1=R\\xcap\\xc8\\x83\\xe0\\xf0\\xbb\\x10\\x1eBZ\\x89\\xe8bM\\xe5\\x1d\\xb2\\xd29%\\x93\\xafj\\x84\\x11\\x80\\x90'\n",
    "\n",
    "# print('---')\n",
    "# digest = hashes.Hash(hashes.SHA256())\n",
    "# digest.update(b\"abc\") # adding data\n",
    "# digest.update(b\"124\") #adding data\n",
    "# hash = digest.finalize()\n",
    "# print(hash)"
   ]
  },
  {
   "cell_type": "code",
   "execution_count": 5,
   "id": "advisory-exhibition",
   "metadata": {
    "ExecuteTime": {
     "end_time": "2021-06-16T05:58:34.299393Z",
     "start_time": "2021-06-16T05:58:34.241603Z"
    }
   },
   "outputs": [],
   "source": [
    "# def computeHash(data):\n",
    "#     data = bytes(str(data), 'utf-8')\n",
    "#     digest = hashes.Hash(hashes.SHA256())\n",
    "#     digest.update(data)\n",
    "#     hash = digest.finalize()\n",
    "#     return(hash)\n",
    "# computeHash(\"The car drives.\")\n",
    "# computeHash(None)"
   ]
  }
 ],
 "metadata": {
  "kernelspec": {
   "display_name": "Python 3",
   "language": "python",
   "name": "python3"
  },
  "language_info": {
   "codemirror_mode": {
    "name": "ipython",
    "version": 3
   },
   "file_extension": ".py",
   "mimetype": "text/x-python",
   "name": "python",
   "nbconvert_exporter": "python",
   "pygments_lexer": "ipython3",
   "version": "3.7.3"
  }
 },
 "nbformat": 4,
 "nbformat_minor": 5
}
