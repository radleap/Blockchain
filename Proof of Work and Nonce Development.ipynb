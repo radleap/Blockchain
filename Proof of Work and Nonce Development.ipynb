{
 "cells": [
  {
   "cell_type": "markdown",
   "id": "institutional-arcade",
   "metadata": {},
   "source": [
    "# Proof of Work and Nonce Development"
   ]
  },
  {
   "cell_type": "code",
   "execution_count": 1,
   "id": "searching-particle",
   "metadata": {
    "ExecuteTime": {
     "end_time": "2021-06-24T20:02:16.411748Z",
     "start_time": "2021-06-24T20:02:16.397129Z"
    }
   },
   "outputs": [],
   "source": [
    "# Environment used: conda create -n blockchain pip python scipy cryptography\n",
    "# cryptography version 3.4.7, python version 3.9.5\n",
    "# Development of code for \"TxBlock.py\""
   ]
  },
  {
   "cell_type": "code",
   "execution_count": 2,
   "id": "minute-animal",
   "metadata": {
    "ExecuteTime": {
     "end_time": "2021-06-24T20:02:16.520829Z",
     "start_time": "2021-06-24T20:02:16.416222Z"
    }
   },
   "outputs": [],
   "source": [
    "# importing\n",
    "import pickle\n",
    "import time\n",
    "import random\n",
    "from cryptography.hazmat.primitives import serialization\n",
    "from cryptography.hazmat.primitives import hashes\n",
    "import blockchain\n",
    "import signature\n",
    "import transaction"
   ]
  },
  {
   "cell_type": "code",
   "execution_count": 3,
   "id": "mechanical-trauma",
   "metadata": {
    "ExecuteTime": {
     "end_time": "2021-06-24T20:02:16.551703Z",
     "start_time": "2021-06-24T20:02:16.526883Z"
    }
   },
   "outputs": [],
   "source": [
    "# By changing the leading zeros, it is more computationally expensive to get a good_nonce.\n",
    "reward = 25.0\n",
    "leading_zeros = 2\n",
    "\n",
    "class TxBlock(blockchain.CBlock):\n",
    "    nonce = None\n",
    "    def __init__(self,previousBlock):\n",
    "        super(TxBlock, self).__init__([],previousBlock)  #reference to the parent class of TXBlock which is CBlock; initialize data as []\n",
    "        self.nonce = \"AAAAA\"\n",
    "    def addTx(self, Tx_in):\n",
    "        self.data.append(Tx_in)\n",
    "\n",
    "    def __count_totals(self):   #this is an internal only function. Not callable from outside the TxBlock Class\n",
    "        total_in = 0\n",
    "        total_out = 0\n",
    "        for tx in self.data:\n",
    "            for from_address,amount in tx.inputs:\n",
    "                total_in = total_in + amount\n",
    "            for to_address, amount in tx.outputs:\n",
    "                total_out = total_out + amount\n",
    "        return(total_in, total_out)\n",
    "\n",
    "    def is_valid(self):\n",
    "        if not super(TxBlock, self).is_valid():\n",
    "            return False\n",
    "        # checking transactions are valid\n",
    "        for tx in self.data:\n",
    "            if not tx.is_valid():\n",
    "                return(False)\n",
    "        # checking the sum of transaction in and out\n",
    "        total_in, total_out = self.__count_totals()\n",
    "        if total_out - total_in - reward > 0.00000000001: # handling floatin point error, also limit transaction size\n",
    "            return(False)\n",
    "        return(True)\n",
    "    #defining Nonce\n",
    "    def good_nonce(self):\n",
    "        '''\n",
    "        Generates a hash of the data, previous hash, and nonce.\n",
    "        Checks the miner's nonce guess IF has correct leading zeros.\n",
    "        Returns True if found, else false\n",
    "        '''\n",
    "        #object to be hashed, including the nonce\n",
    "        h1 = bytes(str(self.data), 'utf-8')\n",
    "        h2 = bytes(str(self.previousHash), 'utf-8')\n",
    "        h3 = bytes(str(self.nonce),'utf-8')\n",
    "\n",
    "        digest = hashes.Hash(hashes.SHA256())\n",
    "        digest.update(h1)\n",
    "        digest.update(h2)\n",
    "        digest.update(h3)\n",
    "        this_hash = digest.finalize()\n",
    "# uncomment these print statements and COMMENT the return statement for testing\n",
    "#         print(this_hash[:leading_zeros]) # returns b'\\x10\\xb7' or similar\n",
    "#         print(\"------------------\")\n",
    "#         print(bytes(''.join(['\\x00' for i in range(leading_zeros)]),'utf-8')) # returns b'\\x00\\x00' or similar\n",
    "        return(this_hash[:leading_zeros] == bytes(''.join(['\\x00' for i in range(leading_zeros)]),'utf-8')) # '\\00' is a zero hexidecimal character\n",
    "\n",
    "    def find_nonce(self):\n",
    "        '''generate iteratively random nonces, uses the method good_nonce() to chech \n",
    "           if the nonce generated leading zeros mathces the this_hash leading zeros.'''\n",
    "        for i in range(10000000):\n",
    "            self.nonce = ''.join(\n",
    "                        [chr(random.randint(0,255)) for i in range(10*leading_zeros)])\n",
    "            if self.good_nonce():\n",
    "                return(self.nonce)\n",
    "        return(None)\n"
   ]
  },
  {
   "cell_type": "markdown",
   "id": "scheduled-embassy",
   "metadata": {},
   "source": [
    "# Testing Requirements"
   ]
  },
  {
   "cell_type": "code",
   "execution_count": 4,
   "id": "middle-portrait",
   "metadata": {
    "ExecuteTime": {
     "end_time": "2021-06-24T20:02:17.957947Z",
     "start_time": "2021-06-24T20:02:16.555976Z"
    }
   },
   "outputs": [
    {
     "name": "stdout",
     "output_type": "stream",
     "text": [
      "Test 1: Success! Tx1 is valid\n",
      "Test 2: Success! Loaded newTx is valid\n",
      "Nonce:  \u0014Z\u0003sÇºZ¶ªµ×÷fÍ£Þ\u0015$/\n",
      "Check: Elapse time: 0.5372529029846191 seconds.\n",
      "Test 3: Error! Mining is too fast.\n",
      "Test 4: Success! Nonce is good!\n",
      "------ THESE ARE TESTS FOR BLOCKS -----\n",
      "Success! Valid Block\n",
      "Success! Valid Block\n",
      "Success! Valid Block\n",
      "Success! Valid Block\n",
      "Success! Nonce is good after save and load!\n",
      "Success! Bad blocks detected!\n",
      "Success! Bad blocks detected!\n",
      "Success! Block reward succeeds\n",
      "Success! Transaction Fees succeeds\n",
      "Success! Greedy miner detected!\n"
     ]
    }
   ],
   "source": [
    "#################### testing ######################\n",
    "pr1,pu1 = signature.generate_keys()\n",
    "pr2,pu2 = signature.generate_keys()\n",
    "pr3,pu3 = signature.generate_keys()\n",
    "\n",
    "Tx1 = transaction.Tx()\n",
    "Tx1.add_input(pu1,1)\n",
    "Tx1.add_output(pu2,1)\n",
    "Tx1.sign(pr1)\n",
    "\n",
    "########### Test 1 ############# \n",
    "if Tx1.is_valid():\n",
    "    print(\"Test 1: Success! Tx1 is valid\")\n",
    "\n",
    "###### saving via pickle of the transaction block\n",
    "savefile = open(\"data/tx.dat\",\"wb\")\n",
    "pickle.dump(Tx1,savefile)\n",
    "savefile.close()\n",
    "\n",
    "########### Test 2 ############# \n",
    "# loading and testing the transaction using the transaction.is_valid()\n",
    "loadfile = open(\"data/tx.dat\",\"rb\")\n",
    "newTx = pickle.load(loadfile)\n",
    "if newTx.is_valid():\n",
    "    print(\"Test 2: Success! Loaded newTx is valid\")\n",
    "loadfile.close()\n",
    "\n",
    "root = TxBlock(None) # cretae a root block, no parent\n",
    "root.addTx(Tx1)\n",
    "\n",
    "Tx2 = transaction.Tx() #transactions in root block\n",
    "Tx2.add_input(pu2, 1.1)\n",
    "Tx2.add_output(pu3, 1)\n",
    "Tx2.sign(pr2)\n",
    "root.addTx(Tx2)\n",
    "\n",
    "B1 = TxBlock(root) # next block and transactions after root\n",
    "Tx3 = transaction.Tx()\n",
    "Tx3.add_input(pu3, 1.1)\n",
    "Tx3.add_output(pu2, 1)\n",
    "Tx3.sign(pr3)\n",
    "B1.addTx(Tx3)\n",
    "\n",
    "Tx4 = transaction.Tx()\n",
    "Tx4.add_input(pu1, 1)\n",
    "Tx4.add_output(pu2, 1)\n",
    "Tx4.add_required(pu3)\n",
    "Tx4.sign(pr1)\n",
    "Tx4.sign(pr3)\n",
    "B1.addTx(Tx4)\n",
    "\n",
    "########### Test 3 ############# \n",
    "start = time.time() # grabbing CPU time\n",
    "print(\"Nonce: \",B1.find_nonce())\n",
    "elapsed = time.time() - start\n",
    "print(\"Check: Elapse time: \" + str(elapsed) + \" seconds.\")\n",
    "if elapsed < 60:\n",
    "    print(\"Test 3: Error! Mining is too fast.\")\n",
    "    \n",
    "########### Test 4 ############# \n",
    "if B1.good_nonce():\n",
    "    print(\"Test 4: Success! Nonce is good!\")\n",
    "else:\n",
    "    print(\"Test 4: Error! Bad Nonce\")\n",
    "\n",
    "\n",
    "savefile = open(\"data/block.dat\",\"wb\")\n",
    "pickle.dump(B1,savefile)\n",
    "savefile.close()\n",
    "\n",
    "loadfile = open(\"data/block.dat\",\"rb\")\n",
    "load_B1 = pickle.load(loadfile)\n",
    "load_B1.is_valid()\n",
    "\n",
    "# print(bytes(str(load_B1.data), 'utf-8')) # this prints all the data\n",
    "\n",
    "##### THESE ARE TESTS FOR BLOCKS #########\n",
    "print(\"------ THESE ARE TESTS FOR BLOCKS -----\")\n",
    "for b in [root, B1, load_B1, load_B1.previousBlock]:\n",
    "    if b.is_valid():\n",
    "        print(\"Success! Valid Block\")\n",
    "    else:\n",
    "        print(\"Error! Bad Block\")\n",
    "\n",
    "# this allows the network to check\n",
    "if B1.good_nonce():\n",
    "    print(\"Success! Nonce is good after save and load!\")\n",
    "else:\n",
    "    print(\"Error! Bad Nonce after loading.\")\n",
    "\n",
    "# This should throw an error - transaction output exceeds input\n",
    "B2 = TxBlock(B1)\n",
    "Tx5 = transaction.Tx()\n",
    "Tx5.add_input(pu3,1)\n",
    "Tx5.add_output(pu1, 100) #inputs exceed outputs\n",
    "Tx5.sign(pr3)\n",
    "B2.addTx(Tx5)\n",
    "#print(Tx5.is_valid())\n",
    "\n",
    "# tampering with Block 1\n",
    "load_B1.previousBlock.addTx(Tx4) # tampering with block b1, using a repeat of Tx4\n",
    "for b in [B2, load_B1]:\n",
    "    if b.is_valid():\n",
    "        print(\"ERROR! Bad block verified.\")\n",
    "    else:\n",
    "        print(\"Success! Bad blocks detected!\")\n",
    "\n",
    "'''test mining rewards and transaction fee'''\n",
    "pr4,pu4 = signature.generate_keys() # for the miner\n",
    "B3 = TxBlock(B2)\n",
    "B3.addTx(Tx2) # these are suigned, and miner not need the priavte keys\n",
    "B3.addTx(Tx3)\n",
    "B3.addTx(Tx4)\n",
    "Tx6 = transaction.Tx()\n",
    "Tx6.add_output(pu4,25) # adds own transaction to earn the requred\n",
    "B3.addTx(Tx6) # would be falgged as invalid, due to our in/out rules.\n",
    "if B3.is_valid():\n",
    "    print(\"Success! Block reward succeeds\")\n",
    "else:\n",
    "    print(\"Error! Block reward fail.\")\n",
    "\n",
    "'''Transaction fees test'''\n",
    "B4 = TxBlock(B3)\n",
    "B4.addTx(Tx2) # these are signed, and miner not need the priavte keys\n",
    "B4.addTx(Tx3)\n",
    "B4.addTx(Tx4)\n",
    "Tx7 = transaction.Tx()\n",
    "Tx7.add_output(pu4,25.2) # takes the extra points/transaction fees from each, here .2\n",
    "B4.addTx(Tx7) # would be falgged as invalid, due to our in/out rules.\n",
    "if B4.is_valid():\n",
    "    print(\"Success! Transaction Fees succeeds\")\n",
    "else:\n",
    "    print(\"Error! Transaction Fees fail.\")\n",
    "\n",
    "'''Greedy Miner'''\n",
    "B5 = TxBlock(B4)\n",
    "B5.addTx(Tx2) # these are signed, and miner not need the priavte keys\n",
    "B5.addTx(Tx3)\n",
    "B5.addTx(Tx4)\n",
    "Tx8 = transaction.Tx()\n",
    "Tx8.add_output(pu4,26) # takes the extra points/transaction fees from each, here .2\n",
    "B5.addTx(Tx8) # would be falgged as invalid, due to our in/out rules.\n",
    "if not B5.is_valid():\n",
    "    print(\"Success! Greedy miner detected!\")\n",
    "else:\n",
    "    print(\"Error! Greedy miner NOT detected.\")"
   ]
  },
  {
   "cell_type": "markdown",
   "id": "other-guyana",
   "metadata": {},
   "source": [
    "# Testing Pieces of the Code"
   ]
  },
  {
   "cell_type": "code",
   "execution_count": 5,
   "id": "becoming-arena",
   "metadata": {
    "ExecuteTime": {
     "end_time": "2021-06-24T20:02:17.989296Z",
     "start_time": "2021-06-24T20:02:17.959390Z"
    }
   },
   "outputs": [
    {
     "data": {
      "text/plain": [
       "'/'"
      ]
     },
     "execution_count": 5,
     "metadata": {},
     "output_type": "execute_result"
    }
   ],
   "source": [
    "chr(random.randint(0,255))"
   ]
  },
  {
   "cell_type": "code",
   "execution_count": 6,
   "id": "stone-consideration",
   "metadata": {
    "ExecuteTime": {
     "end_time": "2021-06-24T20:02:18.068736Z",
     "start_time": "2021-06-24T20:02:17.993375Z"
    }
   },
   "outputs": [
    {
     "name": "stdout",
     "output_type": "stream",
     "text": [
      "N'u\n"
     ]
    }
   ],
   "source": [
    "leading_zeros = 2\n",
    "\n",
    "def find_nonce(a):\n",
    "    '''generate random nonces and check if the nonce is good using good_nonce'''\n",
    "    for i in range(1):\n",
    "        nonce = ''.join(\n",
    "                    [chr(random.randint(0,255)) for i in range(2*leading_zeros)])\n",
    "        print(nonce)\n",
    "find_nonce(3)"
   ]
  },
  {
   "cell_type": "code",
   "execution_count": 7,
   "id": "demonstrated-payroll",
   "metadata": {
    "ExecuteTime": {
     "end_time": "2021-06-24T20:02:18.100788Z",
     "start_time": "2021-06-24T20:02:18.072723Z"
    }
   },
   "outputs": [
    {
     "data": {
      "text/plain": [
       "'ü\\x08$½à¯2¥×¥¶r\\x89N¨te\\x155\\x94=´7Wq\\x16µ¾\\x9fà'"
      ]
     },
     "execution_count": 7,
     "metadata": {},
     "output_type": "execute_result"
    }
   ],
   "source": [
    "leading_zeros = 3\n",
    "\n",
    "''.join([chr(random.randint(0,255)) for i in range(10*leading_zeros)])"
   ]
  }
 ],
 "metadata": {
  "kernelspec": {
   "display_name": "Python 3",
   "language": "python",
   "name": "python3"
  },
  "language_info": {
   "codemirror_mode": {
    "name": "ipython",
    "version": 3
   },
   "file_extension": ".py",
   "mimetype": "text/x-python",
   "name": "python",
   "nbconvert_exporter": "python",
   "pygments_lexer": "ipython3",
   "version": "3.7.3"
  }
 },
 "nbformat": 4,
 "nbformat_minor": 5
}
