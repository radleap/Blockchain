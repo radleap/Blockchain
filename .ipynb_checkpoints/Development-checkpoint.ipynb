{
 "cells": [
  {
   "cell_type": "markdown",
   "id": "extra-housing",
   "metadata": {},
   "source": [
    "# Asymmetric Cryptography Implementation"
   ]
  },
  {
   "cell_type": "code",
   "execution_count": 1,
   "id": "attached-farming",
   "metadata": {
    "ExecuteTime": {
     "end_time": "2021-06-16T00:52:35.577296Z",
     "start_time": "2021-06-16T00:52:35.539193Z"
    }
   },
   "outputs": [],
   "source": [
    "from cryptography.hazmat.primitives.asymmetric import rsa\n",
    "from cryptography.hazmat.primitives import serialization\n",
    "from cryptography.hazmat.primitives import hashes\n",
    "from cryptography.hazmat.primitives.asymmetric import padding\n"
   ]
  },
  {
   "cell_type": "markdown",
   "id": "noble-reconstruction",
   "metadata": {},
   "source": [
    "# Generate Public and Private Keys"
   ]
  },
  {
   "cell_type": "code",
   "execution_count": 2,
   "id": "designed-roads",
   "metadata": {
    "ExecuteTime": {
     "end_time": "2021-06-16T00:52:35.593108Z",
     "start_time": "2021-06-16T00:52:35.579146Z"
    }
   },
   "outputs": [],
   "source": [
    "# def generate_keys():\n",
    "#     ''' This function uses RSA encryption with 2048 bits'''\n",
    "#     key = rsa.generate_private_key(public_exponent = 65537, key_size = 2048)\n",
    "    \n",
    "#     private_key = key.private_bytes(serialization.Encoding.PEM,\n",
    "#                                     serialization.PrivateFormat.TraditionalOpenSSL,\n",
    "#                                     serialization.NoEncryption()).decode('utf-8')\n",
    "    \n",
    "#     public_key = key.public_key().public_bytes(serialization.Encoding.OpenSSH,\n",
    "#                                                serialization.PublicFormat.OpenSSH)\n",
    "#     return(private_key, public_key)\n",
    "# private_key, public_key = generate_keys()\n",
    "# private_key"
   ]
  },
  {
   "cell_type": "code",
   "execution_count": 3,
   "id": "fifty-filter",
   "metadata": {
    "ExecuteTime": {
     "end_time": "2021-06-16T00:52:35.671458Z",
     "start_time": "2021-06-16T00:52:35.595103Z"
    }
   },
   "outputs": [
    {
     "name": "stdout",
     "output_type": "stream",
     "text": [
      "<cryptography.hazmat.backends.openssl.rsa._RSAPrivateKey object at 0x000001E1B7A72A58> <cryptography.hazmat.backends.openssl.rsa._RSAPublicKey object at 0x000001E1B7A72AC8>\n"
     ]
    }
   ],
   "source": [
    "def generate_keys():\n",
    "    ''' This function uses RSA encryption with 2048 bits'''\n",
    "    private_key = rsa.generate_private_key(public_exponent = 65537, key_size = 2048)\n",
    "    public_key = private_key.public_key()\n",
    "    return(private_key, public_key)\n",
    "\n",
    "private_key ,public_key = generate_keys()\n",
    "print(private_key ,public_key)"
   ]
  },
  {
   "cell_type": "markdown",
   "id": "vertical-bubble",
   "metadata": {},
   "source": [
    "# Signing a Message Using Private Key"
   ]
  },
  {
   "cell_type": "code",
   "execution_count": 4,
   "id": "polyphonic-gnome",
   "metadata": {
    "ExecuteTime": {
     "end_time": "2021-06-16T00:52:35.687460Z",
     "start_time": "2021-06-16T00:52:35.673456Z"
    }
   },
   "outputs": [],
   "source": [
    "message = b\"A message I want to sign\"\n",
    "\n",
    "def sign(message, private_key):\n",
    "    signature = private_key.sign(message,\n",
    "                                 padding.PSS(\n",
    "                                 mgf = padding.MGF1(hashes.SHA256()),\n",
    "                                 salt_length = padding.PSS.MAX_LENGTH),\n",
    "                                 hashes.SHA256())\n",
    "    return(signature)\n",
    "\n",
    "signature = sign(message,private_key)"
   ]
  },
  {
   "cell_type": "markdown",
   "id": "western-technology",
   "metadata": {},
   "source": [
    "# Verification of Message and Sender\n",
    "\n",
    "If you have a public key, a message, a signature, and the signing algorithm that was used you can check that the private key associated with a given public key was used to sign that specific message.\n",
    "\n",
    "If the signature does not match, verify() will raise an InvalidSignature exception."
   ]
  },
  {
   "cell_type": "code",
   "execution_count": 5,
   "id": "oriental-gabriel",
   "metadata": {
    "ExecuteTime": {
     "end_time": "2021-06-16T00:52:35.703376Z",
     "start_time": "2021-06-16T00:52:35.689416Z"
    }
   },
   "outputs": [
    {
     "data": {
      "text/plain": [
       "True"
      ]
     },
     "execution_count": 5,
     "metadata": {},
     "output_type": "execute_result"
    }
   ],
   "source": [
    "def verify(message, signature, public_key):\n",
    "    public_key = private_key.public_key() # need to refactor the argument of function and this line.\n",
    "    try:\n",
    "        public_key.verify(\n",
    "        signature,\n",
    "        message,\n",
    "        padding.PSS(\n",
    "        mgf=padding.MGF1(hashes.SHA256()),\n",
    "        salt_length=padding.PSS.MAX_LENGTH),\n",
    "        hashes.SHA256()\n",
    "    )\n",
    "        return(True)\n",
    "    except:\n",
    "        return(False)\n",
    "\n",
    "verify(message,signature, public_key)"
   ]
  },
  {
   "cell_type": "markdown",
   "id": "comparable-offset",
   "metadata": {},
   "source": [
    "# Resources\n",
    "\n",
    "https://cryptography.io/en/latest/hazmat/primitives/asymmetric/rsa/\n",
    "\n",
    "https://www.programcreek.com/python/example/99667/cryptography.hazmat.primitives.asymmetric.rsa.generate_private_key"
   ]
  },
  {
   "cell_type": "code",
   "execution_count": null,
   "id": "reasonable-subdivision",
   "metadata": {},
   "outputs": [],
   "source": []
  }
 ],
 "metadata": {
  "kernelspec": {
   "display_name": "Python 3",
   "language": "python",
   "name": "python3"
  },
  "language_info": {
   "codemirror_mode": {
    "name": "ipython",
    "version": 3
   },
   "file_extension": ".py",
   "mimetype": "text/x-python",
   "name": "python",
   "nbconvert_exporter": "python",
   "pygments_lexer": "ipython3",
   "version": "3.7.3"
  }
 },
 "nbformat": 4,
 "nbformat_minor": 5
}
