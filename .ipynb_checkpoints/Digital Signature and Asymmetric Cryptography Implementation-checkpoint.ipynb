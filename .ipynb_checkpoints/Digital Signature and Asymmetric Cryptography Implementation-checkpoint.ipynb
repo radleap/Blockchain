{
 "cells": [
  {
   "cell_type": "markdown",
   "id": "rental-basket",
   "metadata": {},
   "source": [
    "# Digital Signature and Asymmetric Cryptography Implementation\n",
    "\n",
    "- Environment used: conda create -n blockchain pip python scipy cryptography\n",
    "- cryptography version 3.4.7, python version 3.9.5\n",
    "\n",
    "Note: This code is implemented in **signature.py** in the working directory, including tests. "
   ]
  },
  {
   "cell_type": "code",
   "execution_count": 1,
   "id": "attached-farming",
   "metadata": {
    "ExecuteTime": {
     "end_time": "2021-06-16T01:56:30.491714Z",
     "start_time": "2021-06-16T01:56:30.451690Z"
    }
   },
   "outputs": [],
   "source": [
    "from cryptography.hazmat.primitives.asymmetric import rsa\n",
    "from cryptography.hazmat.primitives import serialization\n",
    "from cryptography.hazmat.primitives import hashes\n",
    "from cryptography.hazmat.primitives.asymmetric import padding\n",
    "from cryptography.exceptions import InvalidSignature"
   ]
  },
  {
   "cell_type": "markdown",
   "id": "noble-reconstruction",
   "metadata": {},
   "source": [
    "# Generate Public and Private Keys"
   ]
  },
  {
   "cell_type": "code",
   "execution_count": 2,
   "id": "fifty-filter",
   "metadata": {
    "ExecuteTime": {
     "end_time": "2021-06-16T01:56:30.586576Z",
     "start_time": "2021-06-16T01:56:30.494663Z"
    }
   },
   "outputs": [
    {
     "name": "stdout",
     "output_type": "stream",
     "text": [
      "<cryptography.hazmat.backends.openssl.rsa._RSAPrivateKey object at 0x000001A0CC6DA518> \n",
      " <cryptography.hazmat.backends.openssl.rsa._RSAPublicKey object at 0x000001A0CC6DA5C0>\n"
     ]
    }
   ],
   "source": [
    "def generate_keys():\n",
    "    ''' \n",
    "    This function uses RSA encryption with 2048 bits to create public and private key\n",
    "    Returns two objects, the public key and the private key\n",
    "    '''\n",
    "    private_key = rsa.generate_private_key(\n",
    "                        public_exponent = 65537, \n",
    "                        key_size = 2048)\n",
    "    public_key = private_key.public_key()\n",
    "    return(private_key, public_key)\n",
    "\n",
    "# running\n",
    "private_key ,public_key = generate_keys()\n",
    "print(private_key ,'\\n',public_key)"
   ]
  },
  {
   "cell_type": "markdown",
   "id": "vertical-bubble",
   "metadata": {},
   "source": [
    "# Signing a Message Using Private Key\n",
    "- SHA 256 needsd padding in cryptography\n",
    "- PSS is a sudorandom \n",
    "- \\x are hexidecimal values in the signature"
   ]
  },
  {
   "cell_type": "code",
   "execution_count": 3,
   "id": "polyphonic-gnome",
   "metadata": {
    "ExecuteTime": {
     "end_time": "2021-06-16T01:56:30.602322Z",
     "start_time": "2021-06-16T01:56:30.588359Z"
    }
   },
   "outputs": [
    {
     "data": {
      "text/plain": [
       "b\"\\x9a,\\xd5\\xd6\\xf0\\x03g\\xc1\\x08\\x12\\xb8:V\\x0bQb.3\\xb1#\\xa5]X\\xd8|1\\x05r\\xad\\xa8\\x821\\xcc%\\xd8?|\\xcf\\xf3\\x93q/\\xdf\\x1fDE\\x17B\\x8f\\xa1\\x93\\xdb\\n\\xb9)\\xadK[\\xc4\\x13\\xd4~#\\x88\\x17X\\x13\\x1f~\\xc7\\xfdZ2\\x1fl\\xe9]X\\x99\\xa6i\\x83\\xa9\\xb0*\\x13\\xdf\\x9d\\xa5*B\\xfb\\xbea\\xc6a$\\x99\\xfd\\x91!\\xc7\\x81\\xa0CV\\xc2\\x7f \\x05\\x91\\x05\\x08\\x9b\\xb9\\x96\\xed\\x88w\\xf62\\xd7\\x04g\\xa3;\\xdeuU\\x94\\x88\\x14\\xf0d\\xd1n\\xd1\\x1b\\xdb\\xb9\\r\\x9d\\xe7d.\\xf1dSx\\x81\\t\\xfd\\x8e&\\xfc\\x8b\\x1f\\x16\\xe0\\xa9\\xafeP`\\xabA\\xb1\\x92N-f\\xc4\\xba\\xea]?\\xf6\\x0fWYE-'\\xad$5\\x02\\x06\\x83,\\xecW\\xdaE\\xb2\\xb6\\x8dU\\xee\\xa4\\xe1m\\xc4~S\\xf3\\xeb\\xe4~o\\xe7\\xc3\\xb6\\xc0\\x82@\\xd8ji\\xc8D\\xbf\\x00Z6nxl\\x1dh\\xc9\\xb2\\xff\\xb5#\\xf0\\xf9\\x10\\xe4\\x8bH\\xe1\\xa6\\x8dE\\xee\\x01\\x8fm\\xb7C&\\\\\\x02a&\""
      ]
     },
     "execution_count": 3,
     "metadata": {},
     "output_type": "execute_result"
    }
   ],
   "source": [
    "message = b\"A message I want to sign\"\n",
    "\n",
    "def sign(message, private_key):\n",
    "    ''' \n",
    "    Takes the private key and a message to give a digital signature\n",
    "    Returns a digital signature\n",
    "    '''\n",
    "    message = bytes(str(message), 'utf-8')\n",
    "    signature = private_key.sign(message,\n",
    "                                 padding.PSS(\n",
    "                                 mgf = padding.MGF1(hashes.SHA256()),\n",
    "                                 salt_length = padding.PSS.MAX_LENGTH),\n",
    "                                 hashes.SHA256())\n",
    "    return(signature)\n",
    "\n",
    "# running\n",
    "signature = sign(message,private_key)\n",
    "signature"
   ]
  },
  {
   "cell_type": "markdown",
   "id": "enormous-modification",
   "metadata": {},
   "source": [
    "# Verification of Message and Sender\n",
    "\n",
    "If you have a public key, a message, a signature, and the signing algorithm that was used you can check that the private key associated with a given public key was used to sign that specific message.\n",
    "\n",
    "If the signature does not match, verify() will raise an InvalidSignature exception."
   ]
  },
  {
   "cell_type": "code",
   "execution_count": 4,
   "id": "worst-lesson",
   "metadata": {
    "ExecuteTime": {
     "end_time": "2021-06-16T01:56:30.618283Z",
     "start_time": "2021-06-16T01:56:30.605315Z"
    }
   },
   "outputs": [
    {
     "data": {
      "text/plain": [
       "True"
      ]
     },
     "execution_count": 4,
     "metadata": {},
     "output_type": "execute_result"
    }
   ],
   "source": [
    "def verify(message, signature, public_key):\n",
    "    '''\n",
    "    Takes a message, received signature, and public key to verify message from the sender untampered.\n",
    "    Returns True if verified, else False\n",
    "    '''\n",
    "    \n",
    "    message = bytes(str(message), 'utf-8') # if message bytes converts to a string and then to bytes\n",
    "    public_key = private_key.public_key() # need to refactor the argument of function and this line.\n",
    "    try:\n",
    "        public_key.verify(\n",
    "        signature,\n",
    "        message,\n",
    "        padding.PSS(\n",
    "        mgf=padding.MGF1(hashes.SHA256()),\n",
    "        salt_length=padding.PSS.MAX_LENGTH),\n",
    "        hashes.SHA256()\n",
    "    )\n",
    "        return(True)\n",
    "    except InvalidSignature:\n",
    "        return(False)\n",
    "    except:\n",
    "        print(\"Error executing public key verify\")\n",
    "        \n",
    "# running\n",
    "verify(message,signature, public_key)"
   ]
  },
  {
   "cell_type": "markdown",
   "id": "noble-holly",
   "metadata": {},
   "source": [
    "# Resources\n",
    "\n",
    "https://cryptography.io/en/latest/hazmat/primitives/asymmetric/rsa/"
   ]
  }
 ],
 "metadata": {
  "kernelspec": {
   "display_name": "Python 3",
   "language": "python",
   "name": "python3"
  },
  "language_info": {
   "codemirror_mode": {
    "name": "ipython",
    "version": 3
   },
   "file_extension": ".py",
   "mimetype": "text/x-python",
   "name": "python",
   "nbconvert_exporter": "python",
   "pygments_lexer": "ipython3",
   "version": "3.7.3"
  }
 },
 "nbformat": 4,
 "nbformat_minor": 5
}
