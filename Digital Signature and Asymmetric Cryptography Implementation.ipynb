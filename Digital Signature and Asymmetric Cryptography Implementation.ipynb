{
 "cells": [
  {
   "cell_type": "markdown",
   "id": "rental-basket",
   "metadata": {},
   "source": [
    "# Digital Signature and Asymmetric Cryptography Implementation\n",
    "\n",
    "- Environment used: conda create -n blockchain pip python scipy cryptography\n",
    "- cryptography version 3.4.7, python version 3.9.5\n",
    "\n",
    "Note: This code is implemented in **signature.py** in the working directory, including tests. "
   ]
  },
  {
   "cell_type": "code",
   "execution_count": 1,
   "id": "attached-farming",
   "metadata": {
    "ExecuteTime": {
     "end_time": "2021-06-20T20:07:11.095226Z",
     "start_time": "2021-06-20T20:07:11.057834Z"
    }
   },
   "outputs": [],
   "source": [
    "from cryptography.hazmat.primitives.asymmetric import rsa\n",
    "from cryptography.hazmat.primitives import serialization\n",
    "from cryptography.hazmat.primitives import hashes\n",
    "from cryptography.hazmat.primitives.asymmetric import padding\n",
    "from cryptography.exceptions import InvalidSignature"
   ]
  },
  {
   "cell_type": "markdown",
   "id": "noble-reconstruction",
   "metadata": {},
   "source": [
    "# Generate Public and Private Keys"
   ]
  },
  {
   "cell_type": "code",
   "execution_count": 2,
   "id": "fifty-filter",
   "metadata": {
    "ExecuteTime": {
     "end_time": "2021-06-20T20:07:11.190814Z",
     "start_time": "2021-06-20T20:07:11.096587Z"
    }
   },
   "outputs": [
    {
     "name": "stdout",
     "output_type": "stream",
     "text": [
      "<cryptography.hazmat.backends.openssl.rsa._RSAPrivateKey object at 0x0000014FBDC59CC0> \n",
      " <cryptography.hazmat.backends.openssl.rsa._RSAPublicKey object at 0x0000014FBDC59EB8>\n"
     ]
    }
   ],
   "source": [
    "def generate_keys():\n",
    "    ''' \n",
    "    This function uses RSA encryption with 2048 bits to create public and private key\n",
    "    Returns two objects, the public key and the private key\n",
    "    '''\n",
    "    private_key = rsa.generate_private_key(\n",
    "                        public_exponent = 65537, \n",
    "                        key_size = 2048)\n",
    "    public_key = private_key.public_key()\n",
    "    return(private_key, public_key)\n",
    "\n",
    "# running\n",
    "private_key ,public_key = generate_keys()\n",
    "print(private_key ,'\\n',public_key)"
   ]
  },
  {
   "cell_type": "markdown",
   "id": "vertical-bubble",
   "metadata": {},
   "source": [
    "# Signing a Message Using Private Key\n",
    "- SHA 256 needsd padding in cryptography\n",
    "- PSS is a sudorandom \n",
    "- \\x are hexidecimal values in the signature"
   ]
  },
  {
   "cell_type": "code",
   "execution_count": 3,
   "id": "polyphonic-gnome",
   "metadata": {
    "ExecuteTime": {
     "end_time": "2021-06-20T20:07:11.222243Z",
     "start_time": "2021-06-20T20:07:11.193612Z"
    }
   },
   "outputs": [
    {
     "data": {
      "text/plain": [
       "b'7%\\xe6\\xfa\\x00V1\\x13M\\xeb\\xf7F\\x93\\x9b\\x19(\\x88\\x9d\\xab\\xd1\\xea\\xe5\\xe1\\xdfd\\xa0\\xa9@\\xdcg]$\\xf8CXCBRb\\x8a\\xbdz\\xd9\\xf0\\xaa\\x18\\xc0\\x03\\x0es\\xaa\\x99\\x17\\xffS\\xc7\\x83\\xdb\\xa4<\\xc2G3i\\xc3\\xf0\\xe2@\\x9a\\x8f^\\x8c\\xf3\\xc0\\xdb\\xa9\\xb6f\\xb5%i\\xef\\xc27\\xa6\\xacc)\\xd2xpA\\xc3\\xe6\\x11;\\xb2\\x06T\\xaf%\\xc8J\\x8f\\x16h-\\xfcQ\\xd1\\xce\\x05\\\\\\xe1\\xfe\\xa4\\xe0Yd\\xf3Yf\\xa4\\xaa\\x81V\\xe1\\xf4\\xb8\\xa7\\xb6jN\\x9c=\\x1aG\\xbb\\xb5R\\xeb>\\xa7\\x03\\xd7\\xcb\\xdc\\xc87\\xfcI\\xfey\\x16\\t\\x08\\x11\\x03p\\x7fT\\x9c\\x05\\x81\\xc3\\x9d\\xf6\\x05u\\x03x~:\\x87\\xff[g^h1\\xfe\\xe6\\xb4<j\\xcf|\\xa3\\xed\\x17I\\xf8\\x9f\\r\\xce\\xf4\\xcd3\\x89/\\x025\\xbc\\x1a\\n\\x8ej\\xa6y\\x80\\x03#8\\x11\\x99\\x0f\\xd7\\xd0\\x18X\\x82\\xa1\\xfa\\xb6F\\xd1\\x9d\\nu\\x7f%{]\\xd7bs7\\xb5\\x89\\xc92\\n n\\xc2k>#\\xb6^\\xdem\\xcd?e\\x01'"
      ]
     },
     "execution_count": 3,
     "metadata": {},
     "output_type": "execute_result"
    }
   ],
   "source": [
    "message = b\"A message I want to sign\"\n",
    "\n",
    "def sign(message, private_key):\n",
    "    ''' \n",
    "    Takes the private key and a message to give a digital signature\n",
    "    Returns a digital signature\n",
    "    '''\n",
    "    message = bytes(str(message), 'utf-8')\n",
    "    signature = private_key.sign(message,\n",
    "                                 padding.PSS(\n",
    "                                 mgf = padding.MGF1(hashes.SHA256()),\n",
    "                                 salt_length = padding.PSS.MAX_LENGTH),\n",
    "                                 hashes.SHA256())\n",
    "    return(signature)\n",
    "\n",
    "# running\n",
    "signature = sign(message,private_key)\n",
    "signature"
   ]
  },
  {
   "cell_type": "markdown",
   "id": "enormous-modification",
   "metadata": {},
   "source": [
    "# Verification of Message and Sender\n",
    "\n",
    "If you have a public key, a message, a signature, and the signing algorithm that was used you can check that the private key associated with a given public key was used to sign that specific message.\n",
    "\n",
    "If the signature does not match, verify() will raise an InvalidSignature exception."
   ]
  },
  {
   "cell_type": "code",
   "execution_count": 4,
   "id": "worst-lesson",
   "metadata": {
    "ExecuteTime": {
     "end_time": "2021-06-20T20:07:11.238203Z",
     "start_time": "2021-06-20T20:07:11.224160Z"
    }
   },
   "outputs": [
    {
     "data": {
      "text/plain": [
       "True"
      ]
     },
     "execution_count": 4,
     "metadata": {},
     "output_type": "execute_result"
    }
   ],
   "source": [
    "def verify(message, signature, public_key):\n",
    "    '''\n",
    "    Takes a message, received signature, and public key to verify message from the sender untampered.\n",
    "    Returns True if verified, else False\n",
    "    '''\n",
    "    \n",
    "    message = bytes(str(message), 'utf-8') # if message bytes converts to a string and then to bytes\n",
    "    #public_key = private_key.public_key() # need to refactor the argument of function and this line.\n",
    "    try:\n",
    "        public_key.verify(\n",
    "        signature,\n",
    "        message,\n",
    "        padding.PSS(\n",
    "        mgf=padding.MGF1(hashes.SHA256()),\n",
    "        salt_length=padding.PSS.MAX_LENGTH),\n",
    "        hashes.SHA256()\n",
    "    )\n",
    "        return(True)\n",
    "    except InvalidSignature:\n",
    "        return(False)\n",
    "    except:\n",
    "        print(\"Error executing public key verify\")\n",
    "        \n",
    "# running\n",
    "verify(message,signature, public_key)"
   ]
  },
  {
   "cell_type": "markdown",
   "id": "noble-holly",
   "metadata": {},
   "source": [
    "# Resources\n",
    "\n",
    "https://cryptography.io/en/latest/hazmat/primitives/asymmetric/rsa/"
   ]
  }
 ],
 "metadata": {
  "kernelspec": {
   "display_name": "Python 3",
   "language": "python",
   "name": "python3"
  },
  "language_info": {
   "codemirror_mode": {
    "name": "ipython",
    "version": 3
   },
   "file_extension": ".py",
   "mimetype": "text/x-python",
   "name": "python",
   "nbconvert_exporter": "python",
   "pygments_lexer": "ipython3",
   "version": "3.7.3"
  }
 },
 "nbformat": 4,
 "nbformat_minor": 5
}
