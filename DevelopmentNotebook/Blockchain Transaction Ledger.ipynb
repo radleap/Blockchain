{
 "cells": [
  {
   "cell_type": "markdown",
   "id": "seasonal-medicare",
   "metadata": {},
   "source": [
    "# Blockchain with Transaction Implementation\n",
    "- Environment used: conda create -n blockchain pip python scipy cryptography\n",
    "- cryptography version 3.4.7, python version 3.9.5\n",
    "- Corresponds to script \"Txblock.py\""
   ]
  },
  {
   "cell_type": "markdown",
   "id": "unlimited-stationery",
   "metadata": {},
   "source": [
    "# Class Definition For Blockchain Transaction Implementation\n",
    "\n",
    "Includes the following:\n",
    "- Defining the Transaction Block TxBlock class\n",
    "- Adding transactions to data object within TxBlock class\n",
    "- Checks for valid Blocks and Transactions "
   ]
  },
  {
   "cell_type": "code",
   "execution_count": 1,
   "id": "dental-benefit",
   "metadata": {
    "ExecuteTime": {
     "end_time": "2021-06-23T03:54:33.165386Z",
     "start_time": "2021-06-23T03:54:33.127368Z"
    }
   },
   "outputs": [],
   "source": [
    "# importing\n",
    "import pickle\n",
    "from cryptography.hazmat.primitives import serialization\n",
    "import blockchain\n",
    "import signature\n",
    "import transaction\n",
    "\n",
    "# definition of TxBlock inheriting from CBlock\n",
    "class TxBlock(blockchain.CBlock):\n",
    "    def __init__(self,previousBlock):\n",
    "        super(TxBlock, self).__init__([],previousBlock)  #reference to the parent class of TXBlock which is CBlock; initialize data as []\n",
    "    def addTx(self, Tx_in):\n",
    "        self.data.append(Tx_in)\n",
    "    def is_valid(self):\n",
    "        if not super(TxBlock, self).is_valid():\n",
    "            return False\n",
    "        # checking transactions are valid\n",
    "        for tx in self.data:\n",
    "            if not tx.is_valid():\n",
    "                return(False)\n",
    "        return(True)\n"
   ]
  },
  {
   "cell_type": "markdown",
   "id": "fiscal-mississippi",
   "metadata": {},
   "source": [
    "# Testing"
   ]
  },
  {
   "cell_type": "code",
   "execution_count": 2,
   "id": "nutritional-payroll",
   "metadata": {
    "ExecuteTime": {
     "end_time": "2021-06-23T03:55:11.626015Z",
     "start_time": "2021-06-23T03:55:11.341750Z"
    }
   },
   "outputs": [
    {
     "name": "stdout",
     "output_type": "stream",
     "text": [
      "Success! Tx1 is valid\n",
      "Success! Loaded newTx is valid\n",
      "b'[INPUTS:\\n1.1 from b\\'-----BEGIN PUBLIC KEY-----\\\\nMIIBIjANBgkqhkiG9w0BAQEFAAOCAQ8AMIIBCgKCAQEAx28MqSA+3Y3rD4aRSQyB\\\\nAEisdFBVvgilgGZ7VM1imbtEQMTfrttjDmnpPbrLIKA1406Aa2BgTOZciwbzlryM\\\\nA0VwTv53JBwB9HKNEN3hPPRszDkTn3ab7iXgbipJt1c7O70OVxxBojxQhWBXE7NQ\\\\ngTeK7JsO/5yDyxT3LMlZoI49urLIKjybJGrvzqeYmv6J5OLm5atHwPOJ47nUOFCc\\\\nz3eH2a3gZ1JVEZpLE159YdR3wdu0GHzCFtLIPB61TAikBArBpzhGPI9kAFMtGbcC\\\\nU8FpW/s7DeYCcQ7+ZJMiLup1J/nFnCMooqrUavzO2p1xjXu6sl7CNkhRFSEdcMMb\\\\ndQIDAQAB\\\\n-----END PUBLIC KEY-----\\\\n\\'\\nOUTPUTS:\\n1.1 to b\\'-----BEGIN PUBLIC KEY-----\\\\nMIIBIjANBgkqhkiG9w0BAQEFAAOCAQ8AMIIBCgKCAQEAx28MqSA+3Y3rD4aRSQyB\\\\nAEisdFBVvgilgGZ7VM1imbtEQMTfrttjDmnpPbrLIKA1406Aa2BgTOZciwbzlryM\\\\nA0VwTv53JBwB9HKNEN3hPPRszDkTn3ab7iXgbipJt1c7O70OVxxBojxQhWBXE7NQ\\\\ngTeK7JsO/5yDyxT3LMlZoI49urLIKjybJGrvzqeYmv6J5OLm5atHwPOJ47nUOFCc\\\\nz3eH2a3gZ1JVEZpLE159YdR3wdu0GHzCFtLIPB61TAikBArBpzhGPI9kAFMtGbcC\\\\nU8FpW/s7DeYCcQ7+ZJMiLup1J/nFnCMooqrUavzO2p1xjXu6sl7CNkhRFSEdcMMb\\\\ndQIDAQAB\\\\n-----END PUBLIC KEY-----\\\\n\\'\\nREQD:\\nSIGS:\\nb\"}\\\\x98?\\\\x15\\\\x19\\\\\\\\\\\\xc0\\\\x8f_H\\\\xb6\\\\xfe4\\\\xf3\\\\xbej\\\\xf2\\\\xe4\\\\xb6\\\\x86\\\\xd94<AF\\\\xe7\\\\xeajs:\\\\x91.lK0\\\\xeb\\\\xf1VS\\\\x8be\\\\xb2\\\\xfd\\\\xcfC>ZD>\\\\x94\\\\x9bU^\\\\xd6]r\\\\xde\\\\xea-\\\\xd1\\\\xe5\\\\r\\\\x97\\\\x00\\\\x02\\\\x12\\\\xc5lw\\\\xd2o9\\\\xfb%\\\\xa0h\\\\x8d\\\\xd93\\\\xc86b\\\\n\\\\x97\\\\x18\\\\x13\\\\xd8;\\\\x88\\\\xa2ml\\\\x9c\\\\xdd\\\\x17\\\\x9bm\\\\xe8\\\\x8c\\\\xbb\\\\x110\\\\xc9lhG\\\\xd5UO%\\'\\\\xfcSf\\\\x1e*\\\\x8cS\\\\x922\\\\xec4F\\\\x87\\\\x80\\\\x8d\\\\xe7\\\\xb0<\\\\xfdR]\\\\x1e\\\\xf2\\\\xd8\\\\xeb\\\\x90\\\\x85\\\\x96\\\\xbd.(vi\\\\x99\\\\x1e\\\\xfbh\\\\x84\\\\xd0\\\\xfe\\\\x84\\\\x0c\\\\xa2\\\\n\\\\x9b\\\\xb30}\\\\xfa\\\\xaf\\\\xbf\\\\x98\\\\x1c\\\\x0f,\\\\xc6\\\\xa3dJ\\\\xcf^\\\\x1bkr\\\\xee\\\\xef\\\\x0f\\\\x86cp\\\\x18w\\\\xca\\\\xa6\\\\xe4\\\\xb0sq\\\\x9c\\\\xef\\\\xa0\\\\x1a@\\\\xad\\\\xb6\\\\x8c\\\\x9c\\\\x92nX\\\\xa6oE\\\\xc60D\\\\xcd\\\\x1e\\\\x7f2r\\\\xc7\\\\xc1y\\\\xfaA\\\\x87\\\\xcc%\\\\x8a\\\\x10s\\\\x82\\\\xe0\\\\xcd\\\\x88\\\\xe2\\\\xffE\\\\x84[\\\\xdf\\\\x0c\\\\xa2c7A\\\\x12\\\\xe3\\\\x14\\\\xf3\\\\xa7\\\\x03.\\\\xad\\\\xe7\\\\xad4PB\\\\xa45\\\\xd9\\\\xd2\\\\x19\"\\nEND\\n, INPUTS:\\n1 from b\\'-----BEGIN PUBLIC KEY-----\\\\nMIIBIjANBgkqhkiG9w0BAQEFAAOCAQ8AMIIBCgKCAQEA7Y1l/wfyYoVqJ9virZch\\\\nn+aG9OvoA9vJuf5/xI1U7qhJhJV8UpWkRdLHs/QF+i7p2YO0EFDu7wq0Zw7kQCy9\\\\n7XllQc2ceZEnMXaTlcJoz4WsLRLzhnsYwfNiwcU98xbat/3rOcApXrK+CT0XEvlh\\\\nSACeyQvXg7eiMA6fZKFPfhFYcLSsniaDe/A+ZT6+r7UsbvdcEIvH3Hu2CcVwjmw+\\\\nmgYd7XGxGx9fPzJ8NGOizAfXD9FcQF5jH89udEFEYs5gSxx0KMvRA0WttEVB45bg\\\\nbjGvgxfkNYtb+6CgqOcDcd3267dj3mlFDPjoRQCXNQ67YC9sDwMqIuET8eNSBvTN\\\\nNQIDAQAB\\\\n-----END PUBLIC KEY-----\\\\n\\'\\nOUTPUTS:\\n1 to b\\'-----BEGIN PUBLIC KEY-----\\\\nMIIBIjANBgkqhkiG9w0BAQEFAAOCAQ8AMIIBCgKCAQEA7Y1l/wfyYoVqJ9virZch\\\\nn+aG9OvoA9vJuf5/xI1U7qhJhJV8UpWkRdLHs/QF+i7p2YO0EFDu7wq0Zw7kQCy9\\\\n7XllQc2ceZEnMXaTlcJoz4WsLRLzhnsYwfNiwcU98xbat/3rOcApXrK+CT0XEvlh\\\\nSACeyQvXg7eiMA6fZKFPfhFYcLSsniaDe/A+ZT6+r7UsbvdcEIvH3Hu2CcVwjmw+\\\\nmgYd7XGxGx9fPzJ8NGOizAfXD9FcQF5jH89udEFEYs5gSxx0KMvRA0WttEVB45bg\\\\nbjGvgxfkNYtb+6CgqOcDcd3267dj3mlFDPjoRQCXNQ67YC9sDwMqIuET8eNSBvTN\\\\nNQIDAQAB\\\\n-----END PUBLIC KEY-----\\\\n\\'\\nREQD:\\nb\\'-----BEGIN PUBLIC KEY-----\\\\nMIIBIjANBgkqhkiG9w0BAQEFAAOCAQ8AMIIBCgKCAQEAx28MqSA+3Y3rD4aRSQyB\\\\nAEisdFBVvgilgGZ7VM1imbtEQMTfrttjDmnpPbrLIKA1406Aa2BgTOZciwbzlryM\\\\nA0VwTv53JBwB9HKNEN3hPPRszDkTn3ab7iXgbipJt1c7O70OVxxBojxQhWBXE7NQ\\\\ngTeK7JsO/5yDyxT3LMlZoI49urLIKjybJGrvzqeYmv6J5OLm5atHwPOJ47nUOFCc\\\\nz3eH2a3gZ1JVEZpLE159YdR3wdu0GHzCFtLIPB61TAikBArBpzhGPI9kAFMtGbcC\\\\nU8FpW/s7DeYCcQ7+ZJMiLup1J/nFnCMooqrUavzO2p1xjXu6sl7CNkhRFSEdcMMb\\\\ndQIDAQAB\\\\n-----END PUBLIC KEY-----\\\\n\\'\\nSIGS:\\nb\"\\\\xa2l\\\\x86\\\\xdb\\\\xd6oKC\\\\xa8\\\\xae\\\\x04tG|\\\\x13\\\\xc8\\\\xf2\\\\x189\\\\xcb\\\\x86+\\\\xb1\\\\xc2\\\\xe3\\\\x97\\\\xed\\\\xc0\\\\x99\\\\x00\\\\xcd\\\\x8c\\\\x0e;\\\\xd7\\\\xec\\\\x1f2\\\\xb6\\\\x98\\\\x1cH{\\\\x84\\\\x95\\\\x8e\\\\xd36\\\\x9a\\\\xaf\\\\xb8\\\\x83\\\\xb7\\\\tl\\\\xe5\\\\x00\\\\xf8$L\\\\x8dh\\\\xa5i\\\\xf3;6\\\\xa7O\\\\xa2j\\\\xe9\\\\x0f\\\\xd0<\\\\xec\\\\xffgV\\\\xeb\\\\xa1\\\\xbe4P\\\\x07l\\\\xdd(~x\\\\xf0\\\\x12bCx\\\\xd7\\\\x95N\\\\xeb\\\\xc8\\\\x98\\\\xab4\\\\xbd\\\\xe4\\\\xb9\\\\x96\\\\xe2\\\\xe9\\\\xc5\\\\x1eF\\\\xcej`\\\\xccv\\\\x8f\\\\xa9\\\\x1d\\\\xed\\'Q\\\\xeb\\\\xfd\\\\xce\\\\x01\\\\xaf6\\\\xd7\\\\xac\\\\x9dv\\\\x9e\\\\rq\\\\x85\\\\x8d=\\\\x16p\\\\x19\\\\xc3\\\\x93\\\\x14\\\\x88l\\\\x9a\\\\xab\\\\xd8\\\\xa1\\\\x00\\\\x1e\\\\x86y+\\\\x1e&\\\\x80\\\\x17>S\\\\xbe\\\\x99\\\\x8dZ\\\\x0f\\\\xd3z\\\\x8c\\\\xfd\\\\xee\\\\xee\\\\r|?>\\\\xb8\\\\xfc\\\\x13\\\\xf0\\\\xe4\\\\xec\\\\xe3\\\\xa9\\\\xc5f\\\\t\\\\xa7\\\\xac\\\\xe2\\\\tS\\\\xdf \\\\x04\\\\xf0\\\\x07\\\\x94\\\\xcb\\\\xe8\\\\xe1\\\\x13U\\\\xaf\\\\x13\\\\xcf\\\\x1dv\\\\xe0\\\\xf6Q\\\\xad\\\\xb5\\\\xf5H%\\\\x81\\\\xff%\\\\xb9\\\\xefH\\\\xb6)\\\\xd6\\\\xae\\\\x7f#\\\\xfe\\\\xeb\\\\xb8\\\\xd5\\\\x92NjF\\\\xb0\\\\x11$i~-\\\\x90(jj;+\\\\x1f\\\\x13\\\\x11N,\\\\xeeW\"\\nb\\'C\\\\x07\\\\x1cP\\\\xe7:\\\\xac\\\\x0f\\\\xea\\\\x1cF\\\\x95\\\\\\'h\\\\r\\\\xb3F\\\\xb3=\\\\xf1>v\\\\xfaA3\\\\x88Y3\\\\xf1Ff\\\\xf3J:\\\\xdbz\\\\xe9f1!6\\\\x9d\\\\xab.\\\\xde\\\\xc5o\\\\x8f\\\\xb7\\\\x8e\\\\xb4\\\\xac\\\\xe9a\\\\xad\\\\x89\\\\x116\\\\xcb\\\\x1b-\\\\xd9\\\\xb6\\\\xc2\\\\xf9+3\\\\x83\\\\xf7r\\\\xb6\\\\x0c\\\\x00x\\\\xd8\\\\x8a\\\\x9beTh\\\\x1b\\\\xc4\\\\xd1rm\\\\xaf\\\\xb9\\\\xddM\"\\\\xc4\\\\r\\\\xfc\\\\xc1ye\\\\xb6!\\\\xd8\\\\xd7\\\\x82l&8\\\\xc1\\\\xbawa\\\\xa2\\\\x14\\\\x16\\\\xfb\\\\x7f\\\\x1e\\\\x0c\\\\xc4M\\\\x80\\\\xed:r\\\\xfe\\\\x0bl\\\\t\\\\xa4\\\\x19*\\\\x8b?\\\\x00\\\\x88\\\\x99\\\\x7fce\\\\xab+\\\\xaai4\\\\xbc\\\\x86=\\\\xafg\\\\x7f/&E\\\\xc4L\\\\xfa\\\\x9a\\\\xa4\\\\x1b`8\\\\x17\\\\xde\\\\x95\\\\xc7\\\\x9b\\\\x97\\\\xcaA-G\\\\xb3\\\\x80\\\\xf6\\\\xa5\\\\x86\\\\xe0VgW\\\\xcf\\\\x8a\\\\x0eT\\\\x0f+;\\\\xacM\\\\xaec\\\\x98\\\\xa3\\\\xc2\\\\xb7\\\\xc4\\\\x8a\\\\x89\\\\x00e2g\\\\xb0\\\\x97:\\\\xf8U\\\\x10]\\\\xbb\\\\xc7[?\\\\x80\\\\xdd\\\\xb6\\\\x12y\\\\x115\\\\xa2N\\\\x15\\\\xfd~\\\\xb3\\\\x13\\\\xc9\\\\x91=\\\\xb0\\\\xa8\\\\xee#*\\\\xe4Ef\\\\x17\\\\x04>\\\\xbb\\\\xc5/\\\\xd7e\\\\xcca\\\\x8b\\\\xe3&\\\\x14\\\\x97U\\\\\\\\=\\\\x8cD\\\\x87\\'\\nEND\\n]'\n",
      "Success! Valid Block\n",
      "Success! Valid Block\n",
      "Success! Valid Block\n",
      "Success! Valid Block\n",
      "Success! Bad blocks detected!\n",
      "Success! Bad blocks detected!\n"
     ]
    }
   ],
   "source": [
    "\n",
    "#################### testing ######################\n",
    "\n",
    " #prevents it from running if loaded the module... if just invoke it as a python script will run the tests\n",
    "pr1,pu1 = signature.generate_keys()\n",
    "pr2,pu2 = signature.generate_keys()\n",
    "pr3,pu3 = signature.generate_keys()\n",
    "\n",
    "Tx1 = transaction.Tx()\n",
    "Tx1.add_input(pu1,1)\n",
    "Tx1.add_output(pu2,1)\n",
    "Tx1.sign(pr1)\n",
    "\n",
    "if Tx1.is_valid():\n",
    "    print(\"Success! Tx1 is valid\")\n",
    "\n",
    "###### saving via pickle of the transaction block\n",
    "savefile = open(\"data/tx.dat\",\"wb\")\n",
    "pickle.dump(Tx1,savefile)\n",
    "savefile.close()\n",
    "\n",
    "#### loading and testing the transaction using the transaction.is_valid()\n",
    "loadfile = open(\"data/tx.dat\",\"rb\")\n",
    "newTx = pickle.load(loadfile)\n",
    "if newTx.is_valid():\n",
    "    print(\"Success! Loaded newTx is valid\")\n",
    "loadfile.close()\n",
    "\n",
    "root = TxBlock(None) # cretae a root block, no parent\n",
    "root.addTx(Tx1)\n",
    "\n",
    "Tx2 = transaction.Tx() #transactions in root block\n",
    "Tx2.add_input(pu2, 1.1)\n",
    "Tx2.add_output(pu3, 1)\n",
    "Tx2.sign(pr2)\n",
    "root.addTx(Tx2)\n",
    "\n",
    "B1 = TxBlock(root) # next block and transactions after root\n",
    "Tx3 = transaction.Tx()\n",
    "Tx3.add_input(pu3, 1.1)\n",
    "Tx3.add_output(pu2, 1)\n",
    "Tx3.sign(pr3)\n",
    "B1.addTx(Tx3)\n",
    "\n",
    "Tx4 = transaction.Tx()\n",
    "Tx4.add_input(pu1, 1)\n",
    "Tx4.add_output(pu2, 1)\n",
    "Tx4.add_required(pu3)\n",
    "Tx4.sign(pr1)\n",
    "Tx4.sign(pr3)\n",
    "B1.addTx(Tx4)\n",
    "\n",
    "savefile = open(\"data/block.dat\",\"wb\")\n",
    "pickle.dump(B1,savefile)\n",
    "savefile.close()\n",
    "\n",
    "loadfile = open(\"data/block.dat\",\"rb\")\n",
    "load_B1 = pickle.load(loadfile)\n",
    "load_B1.is_valid()\n",
    "\n",
    "print(bytes(str(load_B1.data), 'utf-8'))\n",
    "\n",
    "##### THESE ARE TESTS FOR BLOCKS #########\n",
    "for b in [root, B1, load_B1, load_B1.previousBlock]:\n",
    "    if b.is_valid():\n",
    "        print(\"Success! Valid Block\")\n",
    "    else:\n",
    "        print(\"Error! Bad Block\")\n",
    "\n",
    "# This should throw an error - transaction output exceeds input\n",
    "B2 = TxBlock(B1)\n",
    "Tx5 = transaction.Tx()\n",
    "Tx5.add_input(pu3,1)\n",
    "Tx5.add_output(pu1, 100) #inputs exceed outputs\n",
    "Tx5.sign(pr3)\n",
    "B2.addTx(Tx5)\n",
    "#print(Tx5.is_valid())\n",
    "\n",
    "# tampering with Block 1\n",
    "load_B1.previousBlock.addTx(Tx4) # tampering with block b1, using a repeat of Tx4\n",
    "for b in [B2, load_B1]:\n",
    "    if b.is_valid():\n",
    "        print(\"ERROR! Bad block verified.\")\n",
    "    else:\n",
    "        print(\"Success! Bad blocks detected!\")"
   ]
  }
 ],
 "metadata": {
  "kernelspec": {
   "display_name": "Python 3",
   "language": "python",
   "name": "python3"
  },
  "language_info": {
   "codemirror_mode": {
    "name": "ipython",
    "version": 3
   },
   "file_extension": ".py",
   "mimetype": "text/x-python",
   "name": "python",
   "nbconvert_exporter": "python",
   "pygments_lexer": "ipython3",
   "version": "3.7.3"
  }
 },
 "nbformat": 4,
 "nbformat_minor": 5
}
