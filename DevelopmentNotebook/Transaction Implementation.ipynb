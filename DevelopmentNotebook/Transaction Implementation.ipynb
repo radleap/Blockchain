{
 "cells": [
  {
   "cell_type": "markdown",
   "id": "seasonal-medicare",
   "metadata": {},
   "source": [
    "# Transaction Implementation\n",
    "- Environment used: conda create -n blockchain pip python scipy cryptography\n",
    "- cryptography version 3.4.7, python version 3.9.5\n",
    "- Corresponds to script \"Transaction.py\""
   ]
  },
  {
   "cell_type": "markdown",
   "id": "unlimited-stationery",
   "metadata": {},
   "source": [
    "# Class Definition For Blockchain Implementation\n",
    "\n",
    "Includes the following:\n",
    "- Definition class Transaction class and logic\n",
    "- Utilizes methods to create inputs, outputs, require_signatures, and signatures objects\n",
    "- Has **is_valid()** method which checks that are signatures received, and untampered. \n",
    "- Also check non-negativity of the amounts and that total amounts received is greater than sent. \n"
   ]
  },
  {
   "cell_type": "code",
   "execution_count": 1,
   "id": "dental-benefit",
   "metadata": {
    "ExecuteTime": {
     "end_time": "2021-06-20T20:47:13.013207Z",
     "start_time": "2021-06-20T20:47:12.970442Z"
    }
   },
   "outputs": [],
   "source": [
    "# importing\n",
    "# from cryptography.hazmat.primitives.asymmetric import rsa\n",
    "# from cryptography.hazmat.primitives import serialization\n",
    "# from cryptography.hazmat.primitives import hashes\n",
    "# from cryptography.hazmat.primitives.asymmetric import padding\n",
    "# from cryptography.exceptions import InvalidSignature\n",
    "\n",
    "import signatures\n",
    "\n",
    "class Tx:\n",
    "    inputs = None #input addresses\n",
    "    outputs = None #output addresses and amounts\n",
    "    sigs = None # list of signatures\n",
    "    reqd = None # required signatures that are not inputs\n",
    "\n",
    "    def __init__(self):\n",
    "        self.inputs = []\n",
    "        self.outputs = []\n",
    "        self.sigs = []\n",
    "        self.reqd = []\n",
    "    def add_input(self, from_address, amount):\n",
    "        '''takes a sending public_key and amount'''\n",
    "        self.inputs.append((from_address,amount))\n",
    "\n",
    "    def add_output(self, to_address, amount):\n",
    "        '''takes a receiving public_key and amount'''\n",
    "        self.outputs.append((to_address,amount))\n",
    "\n",
    "    def add_required(self, address): # public_key is the address input here\n",
    "        '''takes a required third-party public_key'''\n",
    "        self.reqd.append(address)\n",
    "\n",
    "    def sign(self, private_key):\n",
    "        '''The signing user, signs using private_key creating signature'''\n",
    "        message = self.__gather()\n",
    "        new_sig = signatures.sign(message, private_key) # returns signed message\n",
    "        self.sigs.append(new_sig)\n",
    "\n",
    "    def __gather(self):\n",
    "        '''internally used method, not callable. Used for digitally signed message'''\n",
    "        data = []\n",
    "        data.append(self.inputs)\n",
    "        data.append(self.outputs)\n",
    "        data.append(self.reqd)\n",
    "        return(data)\n",
    "\n",
    "    def is_valid(self):\n",
    "        '''\n",
    "        Validates all signatures using the data and public keys\n",
    "        Validates that no negative transactions\n",
    "        Validate that total amount in greater than total amount out\n",
    "        Validate tampering not occur\n",
    "        '''\n",
    "        total_in = 0\n",
    "        total_out = 0\n",
    "        message = self.__gather()\n",
    "        # verifying all input signatures, have been signed/received\n",
    "        for public_key, amount in self.inputs:\n",
    "            found = False\n",
    "            for s in self.sigs:\n",
    "                if signatures.verify(message, s, public_key):\n",
    "                    found = True\n",
    "            if not found:\n",
    "                return False\n",
    "            if amount < 0: #this checks for only positive input amounts\n",
    "                return False\n",
    "            total_in = total_in + amount\n",
    "        for public_key in self.reqd:\n",
    "            found = False\n",
    "            for s in self.sigs:\n",
    "                if signatures.verify(message, s, public_key):\n",
    "                    found = True\n",
    "            if not found:\n",
    "                return False\n",
    "        for addr, amount in self.outputs: #this checks for only negative input amounts\n",
    "            if amount < 0:\n",
    "                return False\n",
    "            total_out = total_out + amount\n",
    "        if total_out > total_in: #total in not less than total out\n",
    "            return False\n",
    "        return True\n"
   ]
  },
  {
   "cell_type": "markdown",
   "id": "human-polymer",
   "metadata": {},
   "source": [
    "# Testing"
   ]
  },
  {
   "cell_type": "code",
   "execution_count": 2,
   "id": "dated-questionnaire",
   "metadata": {
    "ExecuteTime": {
     "end_time": "2021-06-20T20:47:13.456159Z",
     "start_time": "2021-06-20T20:47:13.014410Z"
    }
   },
   "outputs": [],
   "source": [
    "# Making public and private keys for testing\n",
    "pr1, pu1 = signatures.generate_keys()\n",
    "pr2, pu2 = signatures.generate_keys()\n",
    "pr3, pu3 = signatures.generate_keys()\n",
    "pr4, pu4 = signatures.generate_keys()"
   ]
  },
  {
   "cell_type": "code",
   "execution_count": 3,
   "id": "regulation-administration",
   "metadata": {
    "ExecuteTime": {
     "end_time": "2021-06-20T20:47:13.472162Z",
     "start_time": "2021-06-20T20:47:13.458158Z"
    }
   },
   "outputs": [
    {
     "data": {
      "text/plain": [
       "True"
      ]
     },
     "execution_count": 3,
     "metadata": {},
     "output_type": "execute_result"
    }
   ],
   "source": [
    "Tx1 = Tx()\n",
    "Tx1.add_input(pu1,1)\n",
    "Tx1.add_output(pu2,1) #sending coin to pu2\n",
    "Tx1.sign(pr1)\n",
    "Tx1.is_valid()"
   ]
  },
  {
   "cell_type": "code",
   "execution_count": 4,
   "id": "prompt-bandwidth",
   "metadata": {
    "ExecuteTime": {
     "end_time": "2021-06-20T20:47:13.504077Z",
     "start_time": "2021-06-20T20:47:13.474157Z"
    }
   },
   "outputs": [
    {
     "data": {
      "text/plain": [
       "True"
      ]
     },
     "execution_count": 4,
     "metadata": {},
     "output_type": "execute_result"
    }
   ],
   "source": [
    "Tx2 = Tx()\n",
    "Tx2.add_input(pu1,2)\n",
    "Tx2.add_output(pu2,1)\n",
    "Tx2.add_output(pu3,1)\n",
    "Tx2.sign(pr1)\n",
    "Tx2.is_valid()"
   ]
  },
  {
   "cell_type": "code",
   "execution_count": 5,
   "id": "conditional-financing",
   "metadata": {
    "ExecuteTime": {
     "end_time": "2021-06-20T20:47:13.520036Z",
     "start_time": "2021-06-20T20:47:13.506071Z"
    }
   },
   "outputs": [
    {
     "data": {
      "text/plain": [
       "True"
      ]
     },
     "execution_count": 5,
     "metadata": {},
     "output_type": "execute_result"
    }
   ],
   "source": [
    "Tx3 = Tx()\n",
    "Tx3.add_input(pu3,1.2) # shouldnt have more output than input.\n",
    "Tx3.add_output(pu1,1.1) #mining and mining rewards, transaction fee usually goes to miner.\n",
    "Tx3.sign(pr3)\n",
    "Tx3.is_valid()"
   ]
  }
 ],
 "metadata": {
  "kernelspec": {
   "display_name": "Python 3",
   "language": "python",
   "name": "python3"
  },
  "language_info": {
   "codemirror_mode": {
    "name": "ipython",
    "version": 3
   },
   "file_extension": ".py",
   "mimetype": "text/x-python",
   "name": "python",
   "nbconvert_exporter": "python",
   "pygments_lexer": "ipython3",
   "version": "3.7.3"
  }
 },
 "nbformat": 4,
 "nbformat_minor": 5
}
